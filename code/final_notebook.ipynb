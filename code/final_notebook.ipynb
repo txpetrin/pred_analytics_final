{
 "cells": [
  {
   "cell_type": "markdown",
   "metadata": {},
   "source": [
    "# Predictive Analytics State of Dispair Final Project Fall 2024"
   ]
  },
  {
   "cell_type": "markdown",
   "metadata": {},
   "source": [
    "## Generic Imports/Data Import"
   ]
  },
  {
   "cell_type": "code",
   "execution_count": 1,
   "metadata": {},
   "outputs": [],
   "source": [
    "from support import *"
   ]
  },
  {
   "cell_type": "markdown",
   "metadata": {},
   "source": [
    "### TODO : THIS IS UGLY, fix this when there is more time"
   ]
  },
  {
   "cell_type": "code",
   "execution_count": 2,
   "metadata": {},
   "outputs": [
    {
     "data": {
      "text/html": [
       "<div>\n",
       "<style scoped>\n",
       "    .dataframe tbody tr th:only-of-type {\n",
       "        vertical-align: middle;\n",
       "    }\n",
       "\n",
       "    .dataframe tbody tr th {\n",
       "        vertical-align: top;\n",
       "    }\n",
       "\n",
       "    .dataframe thead th {\n",
       "        text-align: right;\n",
       "    }\n",
       "</style>\n",
       "<table border=\"1\" class=\"dataframe\">\n",
       "  <thead>\n",
       "    <tr style=\"text-align: right;\">\n",
       "      <th></th>\n",
       "      <th>id</th>\n",
       "      <th>V1</th>\n",
       "      <th>V2</th>\n",
       "      <th>Y1</th>\n",
       "      <th>Y2</th>\n",
       "      <th>Y3</th>\n",
       "      <th>Y4</th>\n",
       "      <th>Y5</th>\n",
       "      <th>Y6</th>\n",
       "      <th>Y7</th>\n",
       "      <th>...</th>\n",
       "      <th>Y17</th>\n",
       "      <th>Y18</th>\n",
       "      <th>Y19</th>\n",
       "      <th>Y20</th>\n",
       "      <th>Y21</th>\n",
       "      <th>Y22</th>\n",
       "      <th>Y23</th>\n",
       "      <th>Y24</th>\n",
       "      <th>Y25</th>\n",
       "      <th>Y26</th>\n",
       "    </tr>\n",
       "  </thead>\n",
       "  <tbody>\n",
       "    <tr>\n",
       "      <th>0</th>\n",
       "      <td>1</td>\n",
       "      <td>2</td>\n",
       "      <td>3</td>\n",
       "      <td>14136</td>\n",
       "      <td>15218</td>\n",
       "      <td>15968</td>\n",
       "      <td>16654</td>\n",
       "      <td>17164</td>\n",
       "      <td>17574</td>\n",
       "      <td>18205</td>\n",
       "      <td>...</td>\n",
       "      <td>32133</td>\n",
       "      <td>32556</td>\n",
       "      <td>33753</td>\n",
       "      <td>35198</td>\n",
       "      <td>35820</td>\n",
       "      <td>36864</td>\n",
       "      <td>38317</td>\n",
       "      <td>39875</td>\n",
       "      <td>40297</td>\n",
       "      <td>42520</td>\n",
       "    </tr>\n",
       "    <tr>\n",
       "      <th>1</th>\n",
       "      <td>2</td>\n",
       "      <td>3</td>\n",
       "      <td>5</td>\n",
       "      <td>5027</td>\n",
       "      <td>5389</td>\n",
       "      <td>5778</td>\n",
       "      <td>6121</td>\n",
       "      <td>6355</td>\n",
       "      <td>6429</td>\n",
       "      <td>6644</td>\n",
       "      <td>...</td>\n",
       "      <td>10271</td>\n",
       "      <td>10847</td>\n",
       "      <td>11748</td>\n",
       "      <td>12632</td>\n",
       "      <td>12363</td>\n",
       "      <td>12575</td>\n",
       "      <td>13201</td>\n",
       "      <td>13809</td>\n",
       "      <td>14432</td>\n",
       "      <td>15186</td>\n",
       "    </tr>\n",
       "    <tr>\n",
       "      <th>2</th>\n",
       "      <td>3</td>\n",
       "      <td>3</td>\n",
       "      <td>7</td>\n",
       "      <td>466</td>\n",
       "      <td>474</td>\n",
       "      <td>510</td>\n",
       "      <td>544</td>\n",
       "      <td>593</td>\n",
       "      <td>630</td>\n",
       "      <td>659</td>\n",
       "      <td>...</td>\n",
       "      <td>1468</td>\n",
       "      <td>1551</td>\n",
       "      <td>1671</td>\n",
       "      <td>1814</td>\n",
       "      <td>1897</td>\n",
       "      <td>2005</td>\n",
       "      <td>2109</td>\n",
       "      <td>2244</td>\n",
       "      <td>2402</td>\n",
       "      <td>2500</td>\n",
       "    </tr>\n",
       "    <tr>\n",
       "      <th>3</th>\n",
       "      <td>4</td>\n",
       "      <td>4</td>\n",
       "      <td>7</td>\n",
       "      <td>1365</td>\n",
       "      <td>1505</td>\n",
       "      <td>1608</td>\n",
       "      <td>1671</td>\n",
       "      <td>1780</td>\n",
       "      <td>1942</td>\n",
       "      <td>2131</td>\n",
       "      <td>...</td>\n",
       "      <td>4335</td>\n",
       "      <td>4718</td>\n",
       "      <td>5000</td>\n",
       "      <td>5187</td>\n",
       "      <td>5427</td>\n",
       "      <td>5680</td>\n",
       "      <td>5784</td>\n",
       "      <td>6215</td>\n",
       "      <td>6492</td>\n",
       "      <td>7003</td>\n",
       "    </tr>\n",
       "    <tr>\n",
       "      <th>4</th>\n",
       "      <td>5</td>\n",
       "      <td>5</td>\n",
       "      <td>5</td>\n",
       "      <td>2402</td>\n",
       "      <td>2584</td>\n",
       "      <td>2708</td>\n",
       "      <td>2822</td>\n",
       "      <td>3016</td>\n",
       "      <td>3248</td>\n",
       "      <td>3383</td>\n",
       "      <td>...</td>\n",
       "      <td>5918</td>\n",
       "      <td>6297</td>\n",
       "      <td>6659</td>\n",
       "      <td>6892</td>\n",
       "      <td>7085</td>\n",
       "      <td>7476</td>\n",
       "      <td>7575</td>\n",
       "      <td>7954</td>\n",
       "      <td>8490</td>\n",
       "      <td>9177</td>\n",
       "    </tr>\n",
       "  </tbody>\n",
       "</table>\n",
       "<p>5 rows × 29 columns</p>\n",
       "</div>"
      ],
      "text/plain": [
       "   id  V1  V2     Y1     Y2     Y3     Y4     Y5     Y6     Y7  ...    Y17  \\\n",
       "0   1   2   3  14136  15218  15968  16654  17164  17574  18205  ...  32133   \n",
       "1   2   3   5   5027   5389   5778   6121   6355   6429   6644  ...  10271   \n",
       "2   3   3   7    466    474    510    544    593    630    659  ...   1468   \n",
       "3   4   4   7   1365   1505   1608   1671   1780   1942   2131  ...   4335   \n",
       "4   5   5   5   2402   2584   2708   2822   3016   3248   3383  ...   5918   \n",
       "\n",
       "     Y18    Y19    Y20    Y21    Y22    Y23    Y24    Y25    Y26  \n",
       "0  32556  33753  35198  35820  36864  38317  39875  40297  42520  \n",
       "1  10847  11748  12632  12363  12575  13201  13809  14432  15186  \n",
       "2   1551   1671   1814   1897   2005   2109   2244   2402   2500  \n",
       "3   4718   5000   5187   5427   5680   5784   6215   6492   7003  \n",
       "4   6297   6659   6892   7085   7476   7575   7954   8490   9177  \n",
       "\n",
       "[5 rows x 29 columns]"
      ]
     },
     "execution_count": 2,
     "metadata": {},
     "output_type": "execute_result"
    }
   ],
   "source": [
    "train = pd.read_csv(\"C:/Users/Trevo/OneDrive/Documents/GitHub/pred_analytics_final/data/state-of-despair-ii/train2.csv\")\n",
    "train.head()"
   ]
  },
  {
   "cell_type": "markdown",
   "metadata": {},
   "source": [
    "## EDA"
   ]
  },
  {
   "cell_type": "code",
   "execution_count": 3,
   "metadata": {},
   "outputs": [
    {
     "data": {
      "image/png": "[encoded data removed]",
      "text/plain": [
       "<Figure size 640x480 with 1 Axes>"
      ]
     },
     "metadata": {},
     "output_type": "display_data"
    }
   ],
   "source": [
    "observations = train.drop(columns=['id', 'V1', 'V2']).values  # Remove the ID column\n",
    "observations_reshaped = observations.reshape(observations.shape[0] * observations.shape[1], 1)\n",
    "\n",
    "plt.hist(observations_reshaped, bins = 20)\n",
    "plt.show()"
   ]
  },
  {
   "cell_type": "markdown",
   "metadata": {},
   "source": [
    "For the initial model, there was certainly some skewedness that had impacted the results with the many of the lower observations being severely undershot and the higher observaitons being clearly overshot. "
   ]
  },
  {
   "cell_type": "markdown",
   "metadata": {},
   "source": [
    "### Analysis on the data:\n",
    "The data contains both static and dynamic componenets, with the time series aspect being dynamic, changing for every observtion whereas the quantitative variables are both static, staying stagnant throughout all observations. "
   ]
  },
  {
   "cell_type": "markdown",
   "metadata": {},
   "source": [
    "## Recurrent Neural Network (RNN) Model"
   ]
  },
  {
   "cell_type": "code",
   "execution_count": null,
   "metadata": {},
   "outputs": [
    {
     "name": "stdout",
     "output_type": "stream",
     "text": [
      "[[ 5436.]\n",
      " [ 5601.]\n",
      " [ 5908.]\n",
      " [ 6239.]\n",
      " [ 6720.]\n",
      " [ 7300.]\n",
      " [ 7814.]\n",
      " [ 8303.]\n",
      " [ 8821.]\n",
      " [ 9446.]\n",
      " [10128.]\n",
      " [10913.]\n",
      " [11590.]\n",
      " [12112.]\n",
      " [12374.]]\n",
      "\u001b[1m1/1\u001b[0m \u001b[32m━━━━━━━━━━━━━━━━━━━━\u001b[0m\u001b[37m\u001b[0m \u001b[1m0s\u001b[0m 344ms/step\n",
      "[[ 209.66894531]\n",
      " [  -1.83203125]\n",
      " [-109.74511719]\n",
      " [-232.24316406]\n",
      " [-321.50390625]]\n",
      "\u001b[1m1/1\u001b[0m \u001b[32m━━━━━━━━━━━━━━━━━━━━\u001b[0m\u001b[37m\u001b[0m \u001b[1m0s\u001b[0m 32ms/step\n"
     ]
    }
   ],
   "source": [
    "### TODO : ITERATE THROUGH OBSERVATIONS ### \n",
    "observations = observations[81]\n",
    "\n",
    "# Show Training Models for the hyperparameter tuning\n",
    "\n",
    "rnn_model = build_rnn_model(TIME_STEPS, PREDICT_STEPS, FEATURES)\n",
    "rnn_model.compile(optimizer=tf.keras.optimizers.Adam(ALPHA), loss=\"mse\", metrics=[\"mse\"])\n",
    "\n",
    "# Globally scale to avoid any descaling conflicts\n",
    "scaler = StandardScaler()\n",
    "observations = scaler.fit_transform(observations.reshape(-1,1))\n",
    "\n",
    "X, y = window(observations)\n",
    "X_train, X_test, y_train, y_test = train_test_split(X, y, test_size=0.2, random_state=42)\n",
    "history = rnn_model.fit(X_train, y_train, epochs=EPOCHS, batch_size=BATCHES, validation_data=(X_test, y_test), verbose=0)\n",
    "\n",
    "### TODO : PRINT IF X == ... to show hyperparameter tuning ###\n",
    "# plt.plot(history.history['loss'], label='Training Loss')\n",
    "# plt.plot(history.history['val_loss'], label='Validation Loss')\n",
    "# plt.title('Training and Validation Loss: LSTM')\n",
    "# plt.xlabel('Epochs')\n",
    "# plt.ylabel('Loss')\n",
    "# plt.legend()\n",
    "# plt.show()\n",
    "\n",
    "\n",
    "# Show Test models for the final upload\n",
    "rnn_model_test = build_rnn_model(TIME_STEPS, PREDICT_STEPS, FEATURES)\n",
    "rnn_model_test.compile(optimizer=tf.keras.optimizers.Adam(ALPHA), loss=\"mse\", metrics=[\"mse\"])\n",
    "\n",
    "# Train the model:\n",
    "history = rnn_model_test.fit(X, y, epochs=EPOCHS, batch_size=BATCHES, verbose=0)\n",
    "\n",
    "# Graphage\n",
    "### TODO : Create if-statement in the loop for this ### \n",
    "# plt.plot(history.history['loss'], label='Training Loss')\n",
    "# plt.title('Training Loss: LSTM TEST MODEL')\n",
    "# plt.xlabel('Epochs')\n",
    "# plt.ylabel('Loss')\n",
    "# plt.legend()\n",
    "# plt.show()\n",
    "\n",
    "test_window(X, y, rnn_model_test, scaler, 6)\n",
    "\n",
    "# TODO : Predict 5 past the last\n",
    "test_input = observations[-TIME_STEPS:]\n",
    "predictions = test(rnn_model_test, scaler, test_input)"
   ]
  },
  {
   "cell_type": "code",
   "execution_count": 5,
   "metadata": {},
   "outputs": [
    {
     "name": "stdout",
     "output_type": "stream",
     "text": [
      "[[ 3750.]\n",
      " [ 4087.]\n",
      " [ 4385.]\n",
      " [ 4713.]\n",
      " [ 4853.]\n",
      " [ 4932.]\n",
      " [ 5436.]\n",
      " [ 5601.]\n",
      " [ 5908.]\n",
      " [ 6239.]\n",
      " [ 6720.]\n",
      " [ 7300.]\n",
      " [ 7814.]\n",
      " [ 8303.]\n",
      " [ 8821.]\n",
      " [ 9446.]\n",
      " [10128.]\n",
      " [10913.]\n",
      " [11590.]\n",
      " [12112.]\n",
      " [12374.]\n",
      " [12608.]\n",
      " [12930.]\n",
      " [13476.]\n",
      " [14022.]\n",
      " [14836.]]\n"
     ]
    }
   ],
   "source": [
    "print(scaler.inverse_transform(observations))"
   ]
  },
  {
   "cell_type": "code",
   "execution_count": 6,
   "metadata": {},
   "outputs": [
    {
     "name": "stdout",
     "output_type": "stream",
     "text": [
      "[[13325.757]\n",
      " [12825.078]\n",
      " [13272.893]\n",
      " [14236.575]\n",
      " [14787.341]]\n"
     ]
    }
   ],
   "source": [
    "print(predictions)"
   ]
  },
  {
   "cell_type": "code",
   "execution_count": 7,
   "metadata": {},
   "outputs": [],
   "source": [
    "# X = []\n",
    "# y = []\n",
    "# \n",
    "# # iterate across rows\n",
    "# # for i in range(len(observations)):\n",
    "# #     # iterate across columns\n",
    "# #     for j in range(observations.shape[1] - TIME_STEPS - PREDICT_STEPS + 1):\n",
    "# #         # append\n",
    "# #         X.append(observations[i, j:j + TIME_STEPS].reshape(-1, 1))\n",
    "# #         y.append(observations[i, j + TIME_STEPS:j + TIME_STEPS + PREDICT_STEPS].reshape(-1, 1))  # Ensure shape (5, 1)\n",
    "# \n",
    "# for i in range(observations.shape[0] - TIME_STEPS - PREDICT_STEPS + 1):\n",
    "#     X.append(observations[i:i + TIME_STEPS])\n",
    "#     y.append(observations[i + TIME_STEPS:i + TIME_STEPS + PREDICT_STEPS])  # Ensure shape (5, 1)\n",
    "# \n",
    "# X = np.array(X)\n",
    "# y = np.array(y)\n",
    "# \n",
    "# # Step 3: Train-test split\n",
    "# X_train, X_test, y_train, y_test = train_test_split(X, y, test_size=0.2, random_state=42)\n",
    "# \n",
    "# print(f\"Train set shape: {X_train.shape}, {y_train.shape}\")\n",
    "# print(f\"Test set shape: {X_test.shape}, {y_test.shape}\")"
   ]
  },
  {
   "cell_type": "markdown",
   "metadata": {},
   "source": [
    "#### Quick Aside:\n",
    "Running a bit short on time from other projects, if I get the chance to come back in and read in the qualtiative variables, that would be great. If not... "
   ]
  },
  {
   "cell_type": "code",
   "execution_count": 8,
   "metadata": {},
   "outputs": [],
   "source": [
    "# Train the model:\n",
    "# history = rnn_model.fit(X_train, y_train, epochs=EPOCHS, batch_size=BATCHES, validation_data=(X_test, y_test), verbose=1)"
   ]
  },
  {
   "cell_type": "markdown",
   "metadata": {},
   "source": [
    "### Create some graphage"
   ]
  },
  {
   "cell_type": "code",
   "execution_count": 9,
   "metadata": {},
   "outputs": [],
   "source": [
    "# plt.plot(history.history['loss'], label='Training Loss')\n",
    "# plt.plot(history.history['val_loss'], label='Validation Loss')\n",
    "# plt.title('Training and Validation Loss: LSTM')\n",
    "# plt.xlabel('Epochs')\n",
    "# plt.ylabel('Loss')\n",
    "# plt.legend()\n",
    "# plt.show()"
   ]
  },
  {
   "cell_type": "markdown",
   "metadata": {},
   "source": [
    "#### NOTE:\n",
    "For the 'knee bend' principal, it seems like stopping training at roughly 20-25 epochs seems like a smart strategy with the loss graph. "
   ]
  },
  {
   "cell_type": "markdown",
   "metadata": {},
   "source": [
    "### Retrain the LSTM on the complete dataset keeping parameters the same"
   ]
  },
  {
   "cell_type": "markdown",
   "metadata": {},
   "source": [
    "#### Observer performance on randomly selected data points:\n",
    "Let's try train points 1, 8, and 86"
   ]
  },
  {
   "cell_type": "markdown",
   "metadata": {},
   "source": [
    "## Neural Network (NN) Model"
   ]
  },
  {
   "cell_type": "markdown",
   "metadata": {},
   "source": [
    "## Autoregressive Integrated Moving Average (ARIMA) Model"
   ]
  },
  {
   "cell_type": "markdown",
   "metadata": {},
   "source": [
    "## Error-Trend-Seasonality (ETS)"
   ]
  },
  {
   "cell_type": "markdown",
   "metadata": {},
   "source": []
  }
 ],
 "metadata": {
  "kernelspec": {
   "display_name": "predAn",
   "language": "python",
   "name": "python3"
  },
  "language_info": {
   "codemirror_mode": {
    "name": "ipython",
    "version": 3
   },
   "file_extension": ".py",
   "mimetype": "text/x-python",
   "name": "python",
   "nbconvert_exporter": "python",
   "pygments_lexer": "ipython3",
   "version": "3.12.7"
  }
 },
 "nbformat": 4,
 "nbformat_minor": 2
}
